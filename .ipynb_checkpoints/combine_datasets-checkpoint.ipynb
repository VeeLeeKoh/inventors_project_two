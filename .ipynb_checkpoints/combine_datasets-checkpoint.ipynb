{
 "cells": [
  {
   "cell_type": "code",
   "execution_count": 199,
   "metadata": {},
   "outputs": [
    {
     "name": "stdout",
     "output_type": "stream",
     "text": [
      "getting ready to work with the dataset\n"
     ]
    }
   ],
   "source": [
    "import errno\n",
    "import pandas as pd\n",
    "import glob\n",
    "import csv\n",
    "import numpy as np \n",
    "import os.path\n",
    "from pathlib import Path\n",
    "\n",
    "print(\"getting ready to work with the dataset\")\n",
    "# get names of all csv files in this folder\n",
    "csvFiles = glob.glob(\"./*.csv\")\n",
    "# remove mobilization_time.csv cuz it has seperate format then \n",
    "# all the other data files\n",
    "csvFiles.remove(\".\\\\mobilization_time.csv\")\n",
    "\n",
    "# if combined.csv exsts from previous run of this script, don't \n",
    "# read it as a raw data csv file\n",
    "if Path(\"./combined.csv\").is_file():\n",
    "    csvFiles.remove(\".\\\\combined.csv\")"
   ]
  },
  {
   "cell_type": "code",
   "execution_count": 200,
   "metadata": {},
   "outputs": [
    {
     "name": "stdout",
     "output_type": "stream",
     "text": [
      "Creating the map to get company and mobilization details from well name\n"
     ]
    }
   ],
   "source": [
    "\n",
    "print(\"Creating the map to get company and mobilization details from well name\")\n",
    "# read the mobilization_time file to create a map to get company, and \n",
    "# mobilizzation details given the well_name (to be used later) \n",
    "mobcsv = pd.read_csv(\"./mobilization_time.csv\")\n",
    "mapData = mobcsv.values\n",
    "mapping = {}\n",
    "\n",
    "for line in mapData:\n",
    "    mapping[line[4]] = line[1:4]   \n"
   ]
  },
  {
   "cell_type": "code",
   "execution_count": 210,
   "metadata": {},
   "outputs": [
    {
     "name": "stdout",
     "output_type": "stream",
     "text": [
      "Starting the calculations and combining the dataset...\n",
      "\n",
      "Done!\n"
     ]
    }
   ],
   "source": [
    "print(\"Starting the calculations and combining the dataset...\\n\")\n",
    "\n",
    "# open a file to store the combined data, where each row represents a well\n",
    "with open('combined.csv', 'w') as csvFile:\n",
    "    \n",
    "    headings = pd.read_csv(csvFiles[0][2:]).columns\n",
    "    for colHead in range(2, 12):\n",
    "        if colHead == 2:\n",
    "            #write first colHead\n",
    "            csvFile.write(str(headings[colHead]))\n",
    "        else:\n",
    "            csvFile.write(',' + str(headings[colHead]))\n",
    "    \n",
    "    csvFile.write(',' + \"Total Fluid\")\n",
    "    \n",
    "    mobHeadings = mobcsv.columns\n",
    "    for colHead in range(1, 4):\n",
    "        csvFile.write(',' + str(mobHeadings[colHead]))\n",
    "    \n",
    "    # go through each file \n",
    "    for f in csvFiles:\n",
    "        series = pd.read_csv(f[2:])\n",
    "        array = series.values\n",
    "        \n",
    "        for col in range(2, 12):\n",
    "            if col >= 2 and col != 8 and col <= 9:\n",
    "                # calculate and write average\n",
    "                if col == 2:\n",
    "                    #write first entry of this row i.e in a new line\n",
    "                    csvFile.write('\\n' + (str(np.average(array[:, col]))))\n",
    "                else:\n",
    "                    # not the first entry, hence write ',' + data\n",
    "                    csvFile.write(',' + (str(np.average(array[:, col]))))\n",
    "            else:\n",
    "                # calculate and write sum\n",
    "                csvFile.write(',' + str(np.sum(array[:, col])))\n",
    "            \n",
    "            if col == 11:\n",
    "                # end of this file\n",
    "                # calculate and write the total fluid (product and then sum)\n",
    "                csvFile.write(',' + str(sum(array[:, 9] * array[:, 10])))\n",
    "                \n",
    "                # get the company and mobilization details from the mapping\n",
    "                tempData = mapping[f[2:-4]]\n",
    "                csvFile.write(',' + str(tempData[0]))\n",
    "                csvFile.write(',' + str(tempData[1]))\n",
    "                csvFile.write(',' + str(tempData[2]))\n",
    "                \n",
    "                # move on to next csv file\n",
    "                \n",
    "csvFile.close()\n",
    "\n",
    "print(\"Done!\")\n"
   ]
  },
  {
   "cell_type": "code",
   "execution_count": null,
   "metadata": {},
   "outputs": [],
   "source": []
  }
 ],
 "metadata": {
  "kernelspec": {
   "display_name": "Python 3",
   "language": "python",
   "name": "python3"
  },
  "language_info": {
   "codemirror_mode": {
    "name": "ipython",
    "version": 3
   },
   "file_extension": ".py",
   "mimetype": "text/x-python",
   "name": "python",
   "nbconvert_exporter": "python",
   "pygments_lexer": "ipython3",
   "version": "3.7.3"
  }
 },
 "nbformat": 4,
 "nbformat_minor": 2
}
